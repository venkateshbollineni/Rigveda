{
 "cells": [
  {
   "cell_type": "code",
   "execution_count": 15,
   "id": "cd02a13e-8f01-4146-9777-4bbd4f3fd1fb",
   "metadata": {},
   "outputs": [
    {
     "name": "stderr",
     "output_type": "stream",
     "text": [
      "[nltk_data] Downloading package stopwords to\n",
      "[nltk_data]     /home/vbollin/nltk_data...\n",
      "[nltk_data]   Package stopwords is already up-to-date!\n"
     ]
    }
   ],
   "source": [
    "import os\n",
    "import re\n",
    "import nltk\n",
    "import pickle\n",
    "import numpy as np\n",
    "nltk.download('stopwords')\n",
    "from unidecode import unidecode\n",
    "from nltk.corpus import stopwords\n",
    "from sklearn import preprocessing\n",
    "from scipy.sparse import csr_matrix\n",
    "from nltk.tokenize import word_tokenize\n",
    "from sklearn.decomposition import TruncatedSVD\n",
    "from sklearn.feature_extraction.text import TfidfVectorizer"
   ]
  },
  {
   "cell_type": "code",
   "execution_count": 16,
   "id": "b40976de-2162-40d4-a00c-f9ead595bc29",
   "metadata": {},
   "outputs": [
    {
     "name": "stderr",
     "output_type": "stream",
     "text": [
      "/home/vbollin/egultep_31/miniconda3/envs/chatbot/lib/python3.11/site-packages/tqdm/auto.py:21: TqdmWarning: IProgress not found. Please update jupyter and ipywidgets. See https://ipywidgets.readthedocs.io/en/stable/user_install.html\n",
      "  from .autonotebook import tqdm as notebook_tqdm\n"
     ]
    }
   ],
   "source": [
    "import torch\n",
    "import pandas as pd\n",
    "import numpy as np\n",
    "import random\n",
    "import os\n",
    "from sentence_transformers import SentenceTransformer"
   ]
  },
  {
   "cell_type": "code",
   "execution_count": 17,
   "id": "146c927b-81ce-412d-975f-455a6c557ae1",
   "metadata": {},
   "outputs": [],
   "source": [
    "device = torch.device(\"cuda:0\" if torch.cuda.is_available() else \"cpu\")"
   ]
  },
  {
   "cell_type": "code",
   "execution_count": 31,
   "id": "ee2619ab-3bcc-4e91-adf7-d6e005e5c356",
   "metadata": {},
   "outputs": [],
   "source": [
    "labels = pd.read_csv(\"/project/egultep_31/RIGVEDA/suktaspreprocessing/suktalabels.tsv\", header=None)"
   ]
  },
  {
   "cell_type": "code",
   "execution_count": 18,
   "id": "b08f10b7-2e76-499b-a831-d7d622d90f35",
   "metadata": {},
   "outputs": [
    {
     "data": {
      "text/plain": [
       "SentenceTransformer(\n",
       "  (0): Transformer({'max_seq_length': 384, 'do_lower_case': False}) with Transformer model: MPNetModel \n",
       "  (1): Pooling({'word_embedding_dimension': 768, 'pooling_mode_cls_token': False, 'pooling_mode_mean_tokens': True, 'pooling_mode_max_tokens': False, 'pooling_mode_mean_sqrt_len_tokens': False, 'pooling_mode_weightedmean_tokens': False, 'pooling_mode_lasttoken': False, 'include_prompt': True})\n",
       "  (2): Normalize()\n",
       ")"
      ]
     },
     "execution_count": 18,
     "metadata": {},
     "output_type": "execute_result"
    }
   ],
   "source": [
    "SEED = 42\n",
    "torch.manual_seed(SEED)\n",
    "np.random.seed(SEED)\n",
    "random.seed(SEED)\n",
    "torch.use_deterministic_algorithms(True)\n",
    "os.environ[\"CUBLAS_WORKSPACE_CONFIG\"] = \":4096:8\"\n",
    "os.environ[\"TOKENIZERS_PARALLELISM\"] = \"false\"\n",
    "\n",
    "embedder = SentenceTransformer(\"all-mpnet-base-v2\")\n",
    "embedder.eval()"
   ]
  },
  {
   "cell_type": "code",
   "execution_count": 19,
   "id": "0389e88b-d295-48fc-8d88-3807e00685c3",
   "metadata": {},
   "outputs": [],
   "source": [
    "corpus_np = np.loadtxt(\"/project/egultep_31/RIGVEDA/experiments/sbert_queryembeddings.tsv\", delimiter='\\t')\n",
    "corpus_embeddings = torch.tensor(corpus_np)"
   ]
  },
  {
   "cell_type": "code",
   "execution_count": 20,
   "id": "d9c0c987-fef0-438f-9426-726fd8877908",
   "metadata": {},
   "outputs": [],
   "source": [
    "import cohere\n",
    "co = cohere.ClientV2(api_key="API Key")"
   ]
  },
  {
   "cell_type": "code",
   "execution_count": 21,
   "id": "4365afaf-ce24-4025-87b5-77945960c548",
   "metadata": {},
   "outputs": [],
   "source": [
    "sukta_stop_words = set(stopwords.words(\"english\"))"
   ]
  },
  {
   "cell_type": "code",
   "execution_count": 22,
   "id": "2b65e600-ee4b-4bae-a054-e75a65b05232",
   "metadata": {},
   "outputs": [],
   "source": [
    "grif_text = \"/project/egultep_31/RIGVEDA/experiments/Rigveda - Suktas - Griffith's.txt\""
   ]
  },
  {
   "cell_type": "code",
   "execution_count": 23,
   "id": "e4840fba-6572-43c6-8628-cd8d8aabdf82",
   "metadata": {},
   "outputs": [],
   "source": [
    "with open(grif_text, 'r') as grf_text:\n",
    "    griffith_text = grf_text.readlines()"
   ]
  },
  {
   "cell_type": "code",
   "execution_count": 24,
   "id": "7495ff30-4fdd-41c9-8ced-c4843da95137",
   "metadata": {},
   "outputs": [],
   "source": [
    "fname = '/project/egultep_31/RIGVEDA/suktaspreprocessing/consuktasrigveda.txt'"
   ]
  },
  {
   "cell_type": "code",
   "execution_count": 25,
   "id": "45af184d-39fa-4868-9ae0-d53c8330e592",
   "metadata": {},
   "outputs": [],
   "source": [
    "lsa_sukta_data = \"\"\n",
    "\n",
    "with open(fname, 'r', encoding='utf-8') as f:\n",
    "        rigsuktatext = f.read()"
   ]
  },
  {
   "cell_type": "code",
   "execution_count": 26,
   "id": "b25a2fda-150b-44d6-862d-54b84e048b47",
   "metadata": {},
   "outputs": [],
   "source": [
    "rigsuktatext = rigsuktatext.lower()\n",
    "rigsuktatext = re.sub('[0-9]+', '', rigsuktatext)\n",
    "rigsuktatext = re.sub('—',' ', rigsuktatext)\n",
    "rigsuktatext = re.sub('–',' ', rigsuktatext)\n",
    "# rigsuktatext = re.sub(r'\"[-()\\\"#/@;:<>{}`+=~|.!?,\"]\"', ' ', rigsuktatext)\n",
    "pattern = r'[^\\w\\s]'\n",
    "cleaned_string = re.sub(pattern, '', rigsuktatext)\n",
    "filt2_paragraphs = cleaned_string.split('\\n')"
   ]
  },
  {
   "cell_type": "code",
   "execution_count": 27,
   "id": "e6753b68-43d0-430a-8ae0-2a94000f06c9",
   "metadata": {},
   "outputs": [],
   "source": [
    "suktafiltered_words = [word for word in filt2_paragraphs if word not in sukta_stop_words and len(word) > 2]"
   ]
  },
  {
   "cell_type": "code",
   "execution_count": 28,
   "id": "d14f01c4-d435-4742-98a5-27187607c74e",
   "metadata": {},
   "outputs": [],
   "source": [
    "def sukta_tokenizer(suktext):\n",
    "    return suktext.split()\n",
    "\n",
    "vectorizer = TfidfVectorizer(tokenizer=sukta_tokenizer,max_df=0.75, min_df=5, token_pattern=None, lowercase=False, strip_accents=None)\n",
    "X = vectorizer.fit_transform(suktafiltered_words)"
   ]
  },
  {
   "cell_type": "code",
   "execution_count": 29,
   "id": "df893f8b-411e-455d-a762-0f13dc13d88b",
   "metadata": {},
   "outputs": [],
   "source": [
    "def user_query_function(queries: str, text, k, embedding_model, text_embeddings, sukta_labels):\n",
    "    top_k = min(k, len(text))\n",
    "    collected_text = \"\"\n",
    "    text_dict = {}\n",
    "    text_embeddings = text_embeddings.to(device)\n",
    "\n",
    "    for query in queries:\n",
    "        query_lower = query.lower()\n",
    "        # TF-IDF transformation\n",
    "        query_trans = vectorizer.transform([query_lower])\n",
    "        # Extract non-zero tf-idf scores and their feature indices\n",
    "        non_zero_items = list(zip(query_trans.indices, query_trans.data))  # (feature_idx, tfidf_score)\n",
    "        if non_zero_items:\n",
    "            print(\" Using TF-IDF refined query...\")\n",
    "            sorted_items = sorted(non_zero_items, key=lambda x: x[1], reverse=True)\n",
    "            suktafeat_names = vectorizer.get_feature_names_out()\n",
    "            top_terms = [suktafeat_names[idx] for idx, _ in sorted_items[:5]]  \n",
    "            new_query_string = \" \".join(top_terms)\n",
    "            print(f\"Top TF-IDF terms from query: {top_terms}\")\n",
    "        else:\n",
    "            print(\"No TF-IDF vocabulary match found — using original query directly for embeddings.\")\n",
    "            new_query_string = query_lower\n",
    "        # Generate embedding for the final query string\n",
    "        query_embedding = embedding_model.encode(new_query_string, convert_to_tensor=True).to(device)\n",
    "        query_embedding = query_embedding.to(dtype=torch.float64)\n",
    "        #  Compute similarity and fetch top-k results\n",
    "        similarity_scores = embedding_model.similarity(query_embedding, text_embeddings)[0]\n",
    "        scores, indices = torch.topk(similarity_scores, k=top_k)\n",
    "        print(\"\\n Query:\", query)\n",
    "        print(f\"🔎 Text summary generated from top {top_k} relevant suktas in the Rigveda:\\n\")\n",
    "        for score, idx in zip(scores, indices):\n",
    "            index = idx.tolist()\n",
    "            label_num = sukta_labels[0][index]\n",
    "            text_dict.update({label_num: text[idx]})\n",
    "            collected_text += \"\".join(text[idx])\n",
    "    return collected_text, text_dict"
   ]
  },
  {
   "cell_type": "code",
   "execution_count": 32,
   "id": "b507b82e-bff9-4215-92fb-ccc3f43318f0",
   "metadata": {},
   "outputs": [
    {
     "name": "stdout",
     "output_type": "stream",
     "text": [
      " Using TF-IDF refined query...\n",
      "Top TF-IDF terms from query: ['creation', 'what']\n",
      "\n",
      " Query: what is creation\n",
      "🔎 Text summary generated from top 10 relevant suktas in the Rigveda:\n",
      "\n",
      "- **Creation's Origin**: Neither non-existent nor existent initially; no air, sky, or defined boundaries. Darkness and chaos prevailed, with creation emerging from void and formlessness through the power of Warmth.  \n",
      "- **Primordial Desire**: Desire (Kama) arose as the first seed of Spirit, bridging the existent and non-existent. Sages pondered the origins, but the source remains uncertain, even to the Gods.  \n",
      "- **Hiranyagarbha (Golden Embryo)**: The first being, creator of all, sustaining earth and heaven. Identified with Prajāpati, the Lord of all, worshipped for vital breath, power, and immortality.  \n",
      "- **Aditi and Dakṣa**: Aditi birthed Dakṣa, who in turn birthed Aditi, symbolizing cyclical creation. From her sprang the Gods and Martanda (Sun), shaping the cosmos.  \n",
      "- **Cosmic Formation**: Eternal Law and Truth birthed Night, Sea, Year, Sun, Moon, Heaven, Earth, and Light, ordered by Dhātar, the Creator.  \n",
      "- **Puruṣa (Cosmic Man)**: A thousand-headed being, the source of all creation. His sacrifice by the Gods formed the universe, castes, celestial bodies, and all life.  \n",
      "- **Viśvakarman**: The universal architect, creator of earth and heaven, worshipped for his all-encompassing vision and power.  \n",
      "- **Savitar's Role**: Fixed earth and heaven, milked the cosmos, and established the world's boundaries. Invoked for blessings and guidance.  \n",
      "- **Procreation and Growth**: The germ of increase is spread in all beings, ensuring offspring and continuity, as seen in plants, herbs, and future generations.\n",
      "\n",
      "\n",
      "\n",
      "The above text has been generated from the following Rigveda Suktas:\n",
      "\n",
      "Sukta RV 10.129 : \n",
      "THEN was not non-existent nor existent: there was no realm of air, no sky beyond it. What covered in, and where? and what gave shelter? Was water there, unfathomed depth of water? Death was not then, nor was there aught immortal: no sign was there, the day's and night's divider. That One Thing, breathless, breathed by its own nature: apart from it was nothing whatsoever. Darkness there was: at first concealed in darkness this All was indiscriminated chaos. All that existed then was void and form less: by the great power of Warmth was born that Unit. Thereafter rose Desire in the beginning, Desire, the primal seed and germ of Spirit. Sages who searched with their heart's thought discovered the existent's kinship in the non-existent. Transversely was their severing line extended: what was above it then, and what below it? There were begetters, there were mighty forces, free action here and energy up yonder Who verily knows and who can here declare it, whence it was born and whence comes this creation? The Gods are later than this world's production. Who knows then whence it first came into being? He, the first origin of this creation, whether he formed it all or did not form it, Whose eye controls this world in highest heaven, he verily knows it, or perhaps he knows not.\n",
      "\n",
      "Sukta RV 10.121 : \n",
      "IN the beginning rose Hiranyagarbha, born Only Lord of all created beings. He fixed and holdeth up this earth and heaven. What God shall we adore with our oblation? Giver of vital breath, of power and vigour, he whose commandments all the Gods acknowledge -. The Lord of death, whose shade is life immortal. What God shall we adore with our oblation? Who by his grandeur hath become Sole Ruler of all the moving world that breathes and slumbers; He who is Loord of men and Lord of cattle. What God shall we adore with our oblation? His, through his might, are these snow-covered mountains, and men call sea and Rasā his possession: His arms are these, his are these heavenly regions. What God shall we adore with our oblation? By him the heavens are strong and earth is stedfast, by him light's realm and sky-vault are supported: By him the regions in mid-air were measured. What God shall we adore with our oblation? To him, supported by his help, two armies embattled look while trembling in their spirit, When over them the risen Sun is shining. What God shall we adore with our oblation? What time the mighty waters came, containing the universal germ, producing Agni, Thence sprang the Gods’ one spirit into being. What God shall we adore with our oblation? He in his might surveyed the floods containing productive force and generating Worship. He is the God of gods, and none beside him. What God shall we adore with our oblation? Neer may he harm us who is earth's Begetter, nor he whose laws are sure, the heavens' Creator, He who brought forth the great and lucid waters. What God shall we adore with our oblation? Prajāpati! thou only comprehendest all these created things, and none beside thee. Grant us our hearts' desire when we invoke thee: may we have store of riches in possession.\n",
      "\n",
      "Sukta RV 10.72 : \n",
      "LET US with tuneful skill proclaim these generations of the Gods, That one may see them when these hymns are chanted in a future age. These Brahmaṇaspati produced with blast and smelting, like a Smith, Existence, in an earlier age of Gods, from Non-existence sprang. Existence, in the earliest age of Gods, from Non-existence sprang. Thereafter were the regions born. This sprang from the Productive Power. Earth sprang from the Productive Power the regions from the earth were born. Dakṣa was born of Aditi, and Aditi was Dakṣa's Child. For Aditi, O Dakṣa, she who is thy Daughter, was brought forth. After her were the blessed Gods born sharers of immortal life. When ye, O Gods, in yonder deep closeclasping one another stood, Thence, as of dancers, from your feet a thickening cloud of dust arose. When, O ye Gods, like Yatis, ye caused all existing things to grow, Then ye brought Sūrya forward who was lying hidden in the sea. Eight are the Sons of Adid who from her body sprang to life. With seven she went to meet the Gods she cast Martanda far away. So with her Seven Sons Aditi went forth to meet the earlier age. She brought Martanda thitherward to spring to life and die again.\n",
      "\n",
      "Sukta RV 10.190 : \n",
      "FROM Fervour kindled to its height Eternal Law and Truth were born: Thence was the Night produced, and thence the billowy flood of sea arose. From that same billowy flood of sea the Year was afterwards produced, Ordainer of the days nights, Lord over all who close the eye. Dhātar, the great Creator, then formed in due order Sun and Moon. He formed in order Heaven and Earth, the regions of the air, and light.\n",
      "\n",
      "Sukta RV 3.38 : \n",
      "HASTING like some strong courser good at drawing, a thought have I imagined like a workman. Pondering what is dearest and most noble, I long to see the sages full of wisdom. Ask of the sages' mighty generations firm-minded and devout they framed the heaven. These are thy heart-sought strengthening directions, and they have come to be sky's upholders. Assuming in this world mysterious natures, they decked the heaven and earth for high dominion, Measured with measures, fixed their broad expanses, set the great worlds apart held firm for safety. Even as he mounted up they all adorned him: self-luminous he travels clothed in splendour. That is the Bull's, the Asura's mighty figure: he, omniform, hath reached the eternal waters. First the more ancient Bull engendered offspring; these are his many draughts that lent him vigour. From days of old ye Kings, two Sons of Heaven, by hymns of sacrifice have won dominion. Three seats ye Sovrans, in the Holy synod, many, yea, all, ye honour with your presence. There saw I, going thither in the spirit, Gandharvas in their course with wind-blown tresses. That same companionship of her, the Milch-cow, here with the strong Bull's divers forms they stablished. Enduing still some new celestial figure, the skilful workers shaped a form around him. Let no one here debar me from enjoying the golden light which Savitar diffuses. He covers both all-fostering worlds with praises even as a woman cherishes her children. Fulfil, ye twain, his work, the Great, the Ancient: as heavenly blessing keep your guard around us. All the wise Gods behold his varied actions who stands erect, whose voice is like a herdsman's. Call we on Indra, Maghavan, auspicious, best Hero in the fight where spoil is gathered, The Strong, who listens, who gives aid in battles, who slays the Vṛtras, wins and gathers riches.\n",
      "\n",
      "Sukta RV 10.82 : \n",
      "THE Father of the eye, the Wise in spirit, created both these worlds submerged in fatness. Then when the eastern ends were firmly fastened, the heavens and the earth were far extended. Mighty in mind and power is Visvakarman, Maker, Disposer, and most lofty Presence. Their offerings joy in rich juice where they value One, only One, beyond the Seven Ṛṣis. Father who made us, he who, as Disposer, knoweth all races and all things existing, Even he alone, the Deities' narne-giver,him other beings seek for information. To him in sacrifice they offered treasures,—Ṛṣis of old, in numerous troops, as singers, Who, in the distant, near, and lower region, made ready all these things that have existence. That which is earlier than this earth and heaven, before the Asuras and Gods had being,— What was the germ primeval which the waters received where all the Gods were seen together? The waters, they received that germ primeval wherein the Gods were gathefed all together. It rested set upon the Unborn's navel, that One wherein abide all things existing. Ye will not find him who produced these creatures: another thing hath risen up among you. Enwrapt in misty cloud, with lips that stammer, hymn-chanters wander and are discontented.\n",
      "\n",
      "Sukta RV 10.90 : \n",
      "A THOUSAND heads hath Puruṣa, a thousand eyes, a thousand feet. On every side pervading earth he fills a space ten fingers wide. This Puruṣa is all that yet hath been and all that is to be; The Lord of Immortality which waxes greater still by food. So mighty is his greatness; yea, greater than this is Puruṣa. All creatures are one-fourth of him, three-fourths eternal life in heaven. With three-fourths Puruṣa went up: one-fourth of him again was here. Thence he strode out to every side over what cats not and what cats. From him Virāj was born; again Puruṣa from Virāj was born. As soon as he was born he spread eastward and westward o’er the earth. When Gods prepared the sacrifice with Puruṣa as their offering, Its oil was spring, the holy gift was autumn; summer was the wood. They balmed as victim on the grass Puruṣa born in earliest time. With him the Deities and all Sādhyas and Ṛṣis sacrificed. From that great general sacrifice the dripping fat was gathered up. He formed the creatures of-the air, and animals both wild and tame. From that great general sacrifice Ṛcas and Sāma-hymns were born: Therefrom were spells and charms produced; the Yajus had its birth from it. From it were horses born, from it all cattle with two rows of teeth: From it were generated kine, from it the goats and sheep were born. When they divided Puruṣa how many portions did they make? What do they call his mouth, his arms? What do they call his thighs and feet? The Brahman was his mouth, of both his arms was the Rājanya made. His thighs became the Vaiśya, from his feet the Śūdra was produced. The Moon was gendered from his mind, and from his eye the Sun had birth; Indra and Agni from his mouth were born, and Vāyu from his breath. Forth from his navel came mid-air the sky was fashioned from his head Earth from his feet, and from his car the regions. Thus they formed the worlds. Seven fencing-sticks had he, thrice seven layers of fuel were prepared, When the Gods, offering sacrifice, bound, as their victim, Puruṣa. Gods, sacrificing, sacrificed the victim these were the earliest holy ordinances. The Mighty Ones attained the height of heaven, there where the Sādhyas, Gods of old, are dwelling.\n",
      "\n",
      "Sukta RV 10.81 : \n",
      "HE who sate down as Hotar-priest, the Ṛṣi, our Father, offering up all things existing,— He, seeking through his wish a great possession, came among men on earth as archetypal. What was the place whereon he took his station? What was it that supported him? How was it? Whence Visvakarman, seeing all, producing the earth, with mighty power disclosed the heavens. He who hath eyes on all sides round about him, a mouth on all sides, arms and feet on all sides, He, the Sole God, producing earth and heaven, weldeth them, with his arms as wings, together. What was the tree, what wood in sooth produced it, from which they fashioned out the earth and heaven? Ye thoughtful men inquire within your spirit whereon he stood when he established all things. Nine highest, lowest, sacrificial natures, and these thy mid-most here, O Visvakarman, Teach thou thy friends at sacrifice, O Blessed, and come thyself, exalted, to our worship. Bring thou thyself, exalted with oblation, O Visvakarman, Earth and Heaven to worship. Let other men around us live in folly here let us have a rich and liberal patron. Let us invoke to-day, to aid our labour, the Lord of Speech, the thought-swift Visvakarman. May he hear kindly all our invocations who gives all bliss for aid, whose works are righteous.\n",
      "\n",
      "Sukta RV 10.149 : \n",
      "SAVITAR fixed the earth with bands to bind it, and made heaven stedfast where no prop supported. Savitar milked, as ’twere a restless courser, air, sea bound fast to what no foot had trodden. Well knoweth Savitar, O Child of Waters, where ocean, firmly fixt, o’erflowed its limit. Thence sprang the world, from that uprose the region: thence heaven spread out and the wide earth expanded. Then, with a full crowd of Immortal Beings, this other realm came later, high and holy. First, verily, Savitar's strong-pinioned Eagle was born: and he obeys his law for ever. As warriors to their steeds, kine to their village, as fond milk giving cows approach their youngling, As man to wife, let Savitar come downward to us, heaven's bearer, Lord of every blessing. Like the Aṅgirasa Hiranvastupa, I call thee, Savitar, to this achievement: So worshipping and lauding thee for favour I watch for thee as for the stalk of Soma.\n",
      "\n",
      "Sukta RV 10.183 : \n",
      "I SAW thee meditating in thy spirit what sprang from Fervour and hath thence developed. Bestowing offspring here, bestowing riches, spread in thine offspring, thou who cravest children. I saw thee pondering in thine heart, and praying that in due time thy body might be fruitful. Come as a youthful woman, rise to meet me: spread in thine offspring, thou who cravest children. In plants and herbs, in all existent beings I have deposited the germ of increase. All progeny on earth have I engendered, and sons in women who will be hereafter.\n",
      "\n"
     ]
    },
    {
     "name": "stdin",
     "output_type": "stream",
     "text": [
      "Would you like to enquire next question? Enter 'yes' or 'no' no\n"
     ]
    }
   ],
   "source": [
    "from IPython.display import clear_output\n",
    "\n",
    "next_choice = False\n",
    "user_input = input(\"Enter the query:\\n\").lower()\n",
    "while not next_choice:\n",
    "    clear_output(wait=True)\n",
    "    query_list = [user_input]  \n",
    "    results, data_dict = user_query_function(query_list, griffith_text, 10 , embedder, corpus_embeddings, labels)\n",
    "    import cohere \n",
    "    co = cohere.ClientV2(api_key=\"api key")\n",
    "    # message = f\"{user_input}.Generate a concise summary of the given Rigveda hymns as bullet points, don't start the sentence with the Rigveda hymns instead return the summary only. Always stay on the initial question and choose only contextually needed information.\\n{results}\"\n",
    "    message = f\"{user_input}.Generate a concise summary of the given Rigveda hymns as bullet points, don't start the sentence with the Rigveda hymns instead return the summary only. Always stay on the initial question and choose only contextually needed information.\\n{results}\"\n",
    "    response = co.chat(\n",
    "        model=\"command-a-03-2025\",\n",
    "        messages=[{\"role\": \"user\", \"content\": message}],\n",
    "        temperature=0.0\n",
    "    )\n",
    "    print(response.message.content[0].text)\n",
    "    print('\\n\\n')\n",
    "    print(f\"The above text has been generated from the following Rigveda Suktas:\\n\")\n",
    "    for key, value in data_dict.items():\n",
    "        print(f\"Sukta {key}: \\n{value}\")\n",
    "    next_question = input(\"Would you like to enquire next question? Enter 'yes' or 'no'\").lower()\n",
    "    if next_question == \"no\":\n",
    "        next_choice = True\n",
    "        clear_output(wait=True)\n",
    "    else:\n",
    "        user_input = input(\"Enter the query:\\n\").lower()"
   ]
  },
  {
   "cell_type": "code",
   "execution_count": null,
   "id": "a80faa2f-2298-48ef-904d-a4af6f65b2df",
   "metadata": {},
   "outputs": [],
   "source": []
  },
  {
   "cell_type": "code",
   "execution_count": null,
   "id": "a3fb80a3-c4f7-45dc-b0ef-24051bf3e1a6",
   "metadata": {},
   "outputs": [],
   "source": []
  }
 ],
 "metadata": {
  "kernelspec": {
   "display_name": "RigVeda-Chatbot",
   "language": "python",
   "name": "chatbot"
  },
  "language_info": {
   "codemirror_mode": {
    "name": "ipython",
    "version": 3
   },
   "file_extension": ".py",
   "mimetype": "text/x-python",
   "name": "python",
   "nbconvert_exporter": "python",
   "pygments_lexer": "ipython3",
   "version": "3.11.0"
  }
 },
 "nbformat": 4,
 "nbformat_minor": 5
}
